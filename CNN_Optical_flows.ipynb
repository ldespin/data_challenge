{
 "cells": [
  {
   "cell_type": "markdown",
   "id": "be2d08c0",
   "metadata": {},
   "source": [
    "# FER with CNN on optical flows"
   ]
  },
  {
   "cell_type": "markdown",
   "id": "1384d739",
   "metadata": {},
   "source": [
    "## Imports"
   ]
  },
  {
   "cell_type": "code",
   "execution_count": 1,
   "id": "44313077",
   "metadata": {},
   "outputs": [],
   "source": [
    "import numpy as np\n",
    "import matplotlib.pyplot as plt\n",
    "import sys\n",
    "import h5py\n",
    "import cv2\n",
    "from sklearn.metrics import zero_one_loss\n",
    "\n",
    "#Pytorch learning\n",
    "import torch\n",
    "from torchsummary import summary\n",
    "import torch.nn as nn\n",
    "import torchvision.transforms as transforms\n",
    "import torchvision\n",
    "import torch.optim as optim\n",
    "import torch.nn.functional as F\n",
    "\n",
    "from exp_rec import CNN as ExpNet\n",
    "\n",
    "#Functions import\n",
    "from functions import get_imflow\n",
    "from functions import write_results"
   ]
  },
  {
   "cell_type": "markdown",
   "id": "96c93613",
   "metadata": {},
   "source": [
    "## Data loading"
   ]
  },
  {
   "cell_type": "code",
   "execution_count": 13,
   "id": "8da28825",
   "metadata": {},
   "outputs": [],
   "source": [
    "#######################################################################\n",
    "# Loading data tables from H5py files\n",
    "#######################################################################\n",
    "\n",
    "h5f = h5py.File('train/data_train_images.h5','r')\n",
    "train_images = h5f['data_train_images'][:]\n",
    "h5f.close()\n",
    "\n",
    "h5f = h5py.File('test/data_test_images.h5','r')\n",
    "test_images = h5f['data_test_images'][:]\n",
    "h5f.close()\n",
    "\n",
    "h5f = h5py.File('train/data_train_labels.h5','r')\n",
    "train_labels = h5f['data_train_labels'][:]\n",
    "train_labels = train_labels\n",
    "h5f.close()"
   ]
  },
  {
   "cell_type": "code",
   "execution_count": 14,
   "id": "90b862d4",
   "metadata": {},
   "outputs": [
    {
     "data": {
      "text/plain": [
       "(540, 10, 300, 200)"
      ]
     },
     "execution_count": 14,
     "metadata": {},
     "output_type": "execute_result"
    }
   ],
   "source": [
    "train_images.shape"
   ]
  },
  {
   "cell_type": "code",
   "execution_count": 16,
   "id": "cbbb110a",
   "metadata": {},
   "outputs": [],
   "source": [
    "trainset = {}\n",
    "train_labels = torch.Tensor(train_labels).long()\n",
    "for i in range(len(train_labels)):\n",
    "    trainset[i] = (get_imflow(train_images[i][0],train_images[i][9]).transpose(2,0,1),train_labels[i])"
   ]
  },
  {
   "cell_type": "code",
   "execution_count": 17,
   "id": "d226e100",
   "metadata": {},
   "outputs": [],
   "source": [
    "testset = []\n",
    "for i in range(len(test_images)):\n",
    "    testset.append(get_imflow(test_images[i][0],test_images[i][9]).transpose(2,0,1))"
   ]
  },
  {
   "cell_type": "code",
   "execution_count": 18,
   "id": "8ab7f7ca",
   "metadata": {},
   "outputs": [],
   "source": [
    "trainloader = torch.utils.data.DataLoader(trainset, batch_size=batch_size, shuffle=True, num_workers=2)"
   ]
  },
  {
   "cell_type": "code",
   "execution_count": 14,
   "id": "09c9e7cb",
   "metadata": {},
   "outputs": [],
   "source": [
    "train_flows = []\n",
    "for i in range(len(train_labels)):\n",
    "    train_flows.append(get_imflow(train_images[i][0],train_images[i][9]).transpose(2,0,1))"
   ]
  },
  {
   "cell_type": "markdown",
   "id": "dbb39996",
   "metadata": {},
   "source": [
    "## Model architecture"
   ]
  },
  {
   "cell_type": "code",
   "execution_count": 15,
   "id": "63e438c8",
   "metadata": {},
   "outputs": [],
   "source": [
    "batch_size = 16"
   ]
  },
  {
   "cell_type": "code",
   "execution_count": 19,
   "id": "6b8179b5",
   "metadata": {},
   "outputs": [],
   "source": [
    "transform = transforms.Compose(\n",
    "    [transforms.ToTensor(),\n",
    "     transforms.Normalize((0.5, 0.5, 0.5), (0.5, 0.5, 0.5))])"
   ]
  },
  {
   "cell_type": "code",
   "execution_count": 4,
   "id": "81e1fc88",
   "metadata": {},
   "outputs": [],
   "source": [
    "class CNN(nn.Module):\n",
    "    def __init__(self):\n",
    "        super(CNN, self).__init__()\n",
    "\n",
    "        # Upsampling\n",
    "        self.down = nn.Sequential(\n",
    "            nn.Conv2d(2, 8, 3, padding=1),\n",
    "            nn.ReLU(True),\n",
    "            nn.BatchNorm2d(8),\n",
    "            nn.MaxPool2d(2),\n",
    "            nn.Conv2d(8, 16, 3, padding=1),\n",
    "            nn.ReLU(True),\n",
    "            nn.BatchNorm2d(16),\n",
    "            nn.MaxPool2d(2),\n",
    "            nn.Conv2d(16, 32, 3, padding=1),\n",
    "            nn.ReLU(True),\n",
    "            nn.BatchNorm2d(32),\n",
    "            nn.MaxPool2d(2)\n",
    "            )\n",
    "        # Upsampling\n",
    "        self.up = nn.Sequential(\n",
    "            nn.Linear(29600,256),\n",
    "            nn.ReLU(True),\n",
    "            nn.Linear(256,6),\n",
    "            nn.Softmax(dim=1)\n",
    "            )\n",
    "        \n",
    "\n",
    "    def forward(self, img):\n",
    "        out = self.down(img)\n",
    "        out = self.up(out.view(out.size(0), -1))\n",
    "        return out"
   ]
  },
  {
   "cell_type": "code",
   "execution_count": 52,
   "id": "6e6b51fa",
   "metadata": {},
   "outputs": [],
   "source": [
    "criterion = nn.CrossEntropyLoss()\n",
    "optimizer = optim.SGD(cnn.parameters(), lr=0.001, momentum=0.9)"
   ]
  },
  {
   "cell_type": "markdown",
   "id": "746d47ed",
   "metadata": {},
   "source": [
    "## Training"
   ]
  },
  {
   "cell_type": "code",
   "execution_count": 51,
   "id": "3fb6866b",
   "metadata": {},
   "outputs": [],
   "source": [
    "cnn = CNN()"
   ]
  },
  {
   "cell_type": "code",
   "execution_count": 53,
   "id": "7e0d0732",
   "metadata": {},
   "outputs": [
    {
     "name": "stdout",
     "output_type": "stream",
     "text": [
      "[1,     5] loss: 0.004\n",
      "[1,    10] loss: 0.004\n",
      "[1,    15] loss: 0.004\n",
      "[1,    20] loss: 0.004\n",
      "[1,    25] loss: 0.004\n",
      "[1,    30] loss: 0.004\n",
      "[2,     5] loss: 0.003\n",
      "[2,    10] loss: 0.003\n",
      "[2,    15] loss: 0.003\n",
      "[2,    20] loss: 0.003\n",
      "[2,    25] loss: 0.003\n",
      "[2,    30] loss: 0.003\n",
      "[3,     5] loss: 0.003\n",
      "[3,    10] loss: 0.003\n",
      "[3,    15] loss: 0.003\n",
      "[3,    20] loss: 0.003\n",
      "[3,    25] loss: 0.003\n",
      "[3,    30] loss: 0.003\n",
      "[4,     5] loss: 0.003\n",
      "[4,    10] loss: 0.003\n",
      "[4,    15] loss: 0.003\n",
      "[4,    20] loss: 0.003\n",
      "[4,    25] loss: 0.003\n",
      "[4,    30] loss: 0.003\n",
      "[5,     5] loss: 0.003\n",
      "[5,    10] loss: 0.003\n",
      "[5,    15] loss: 0.003\n",
      "[5,    20] loss: 0.003\n",
      "[5,    25] loss: 0.003\n",
      "[5,    30] loss: 0.003\n",
      "[6,     5] loss: 0.003\n",
      "[6,    10] loss: 0.003\n",
      "[6,    15] loss: 0.003\n",
      "[6,    20] loss: 0.003\n",
      "[6,    25] loss: 0.003\n",
      "[6,    30] loss: 0.003\n",
      "[7,     5] loss: 0.003\n",
      "[7,    10] loss: 0.003\n",
      "[7,    15] loss: 0.003\n",
      "[7,    20] loss: 0.003\n",
      "[7,    25] loss: 0.003\n",
      "[7,    30] loss: 0.003\n",
      "[8,     5] loss: 0.003\n",
      "[8,    10] loss: 0.003\n",
      "[8,    15] loss: 0.003\n",
      "[8,    20] loss: 0.003\n",
      "[8,    25] loss: 0.003\n",
      "[8,    30] loss: 0.003\n",
      "[9,     5] loss: 0.003\n",
      "[9,    10] loss: 0.003\n",
      "[9,    15] loss: 0.003\n",
      "[9,    20] loss: 0.003\n",
      "[9,    25] loss: 0.003\n",
      "[9,    30] loss: 0.003\n",
      "[10,     5] loss: 0.003\n",
      "[10,    10] loss: 0.003\n",
      "[10,    15] loss: 0.003\n",
      "[10,    20] loss: 0.003\n",
      "[10,    25] loss: 0.003\n",
      "[10,    30] loss: 0.003\n",
      "[11,     5] loss: 0.003\n",
      "[11,    10] loss: 0.003\n",
      "[11,    15] loss: 0.003\n",
      "[11,    20] loss: 0.003\n",
      "[11,    25] loss: 0.003\n",
      "[11,    30] loss: 0.003\n",
      "[12,     5] loss: 0.003\n",
      "[12,    10] loss: 0.003\n",
      "[12,    15] loss: 0.003\n",
      "[12,    20] loss: 0.003\n",
      "[12,    25] loss: 0.003\n",
      "[12,    30] loss: 0.003\n",
      "[13,     5] loss: 0.003\n",
      "[13,    10] loss: 0.003\n",
      "[13,    15] loss: 0.003\n",
      "[13,    20] loss: 0.003\n",
      "[13,    25] loss: 0.003\n",
      "[13,    30] loss: 0.003\n",
      "[14,     5] loss: 0.003\n",
      "[14,    10] loss: 0.003\n",
      "[14,    15] loss: 0.003\n",
      "[14,    20] loss: 0.003\n",
      "[14,    25] loss: 0.003\n",
      "[14,    30] loss: 0.003\n",
      "[15,     5] loss: 0.003\n",
      "[15,    10] loss: 0.003\n",
      "[15,    15] loss: 0.003\n",
      "[15,    20] loss: 0.003\n",
      "[15,    25] loss: 0.003\n",
      "[15,    30] loss: 0.003\n",
      "[16,     5] loss: 0.003\n",
      "[16,    10] loss: 0.003\n",
      "[16,    15] loss: 0.003\n",
      "[16,    20] loss: 0.003\n",
      "[16,    25] loss: 0.003\n",
      "[16,    30] loss: 0.003\n",
      "[17,     5] loss: 0.003\n",
      "[17,    10] loss: 0.003\n",
      "[17,    15] loss: 0.003\n",
      "[17,    20] loss: 0.003\n",
      "[17,    25] loss: 0.003\n",
      "[17,    30] loss: 0.003\n",
      "[18,     5] loss: 0.003\n",
      "[18,    10] loss: 0.003\n",
      "[18,    15] loss: 0.003\n",
      "[18,    20] loss: 0.003\n",
      "[18,    25] loss: 0.003\n",
      "[18,    30] loss: 0.003\n",
      "[19,     5] loss: 0.003\n",
      "[19,    10] loss: 0.003\n",
      "[19,    15] loss: 0.003\n",
      "[19,    20] loss: 0.003\n",
      "[19,    25] loss: 0.003\n",
      "[19,    30] loss: 0.003\n",
      "[20,     5] loss: 0.003\n",
      "[20,    10] loss: 0.003\n",
      "[20,    15] loss: 0.003\n",
      "[20,    20] loss: 0.003\n",
      "[20,    25] loss: 0.003\n",
      "[20,    30] loss: 0.003\n",
      "[21,     5] loss: 0.003\n",
      "[21,    10] loss: 0.003\n",
      "[21,    15] loss: 0.003\n",
      "[21,    20] loss: 0.003\n",
      "[21,    25] loss: 0.003\n",
      "[21,    30] loss: 0.003\n",
      "[22,     5] loss: 0.003\n",
      "[22,    10] loss: 0.003\n",
      "[22,    15] loss: 0.003\n",
      "[22,    20] loss: 0.003\n",
      "[22,    25] loss: 0.003\n",
      "[22,    30] loss: 0.003\n",
      "[23,     5] loss: 0.003\n",
      "[23,    10] loss: 0.003\n",
      "[23,    15] loss: 0.003\n",
      "[23,    20] loss: 0.003\n",
      "[23,    25] loss: 0.003\n",
      "[23,    30] loss: 0.003\n",
      "[24,     5] loss: 0.003\n",
      "[24,    10] loss: 0.003\n",
      "[24,    15] loss: 0.003\n",
      "[24,    20] loss: 0.003\n",
      "[24,    25] loss: 0.003\n",
      "[24,    30] loss: 0.003\n",
      "[25,     5] loss: 0.003\n",
      "[25,    10] loss: 0.003\n",
      "[25,    15] loss: 0.003\n",
      "[25,    20] loss: 0.003\n",
      "[25,    25] loss: 0.003\n",
      "[25,    30] loss: 0.003\n",
      "[26,     5] loss: 0.003\n",
      "[26,    10] loss: 0.003\n",
      "[26,    15] loss: 0.003\n",
      "[26,    20] loss: 0.003\n",
      "[26,    25] loss: 0.003\n",
      "[26,    30] loss: 0.003\n",
      "[27,     5] loss: 0.003\n",
      "[27,    10] loss: 0.003\n",
      "[27,    15] loss: 0.003\n",
      "[27,    20] loss: 0.003\n",
      "[27,    25] loss: 0.003\n",
      "[27,    30] loss: 0.003\n",
      "[28,     5] loss: 0.003\n",
      "[28,    10] loss: 0.003\n",
      "[28,    15] loss: 0.003\n",
      "[28,    20] loss: 0.003\n",
      "[28,    25] loss: 0.003\n",
      "[28,    30] loss: 0.003\n",
      "[29,     5] loss: 0.003\n",
      "[29,    10] loss: 0.003\n",
      "[29,    15] loss: 0.003\n",
      "[29,    20] loss: 0.003\n",
      "[29,    25] loss: 0.003\n",
      "[29,    30] loss: 0.003\n",
      "[30,     5] loss: 0.003\n",
      "[30,    10] loss: 0.003\n",
      "[30,    15] loss: 0.003\n",
      "[30,    20] loss: 0.003\n",
      "[30,    25] loss: 0.003\n",
      "[30,    30] loss: 0.003\n",
      "[31,     5] loss: 0.003\n",
      "[31,    10] loss: 0.003\n",
      "[31,    15] loss: 0.003\n",
      "[31,    20] loss: 0.003\n",
      "[31,    25] loss: 0.003\n",
      "[31,    30] loss: 0.003\n",
      "[32,     5] loss: 0.003\n",
      "[32,    10] loss: 0.003\n",
      "[32,    15] loss: 0.003\n",
      "[32,    20] loss: 0.003\n",
      "[32,    25] loss: 0.003\n",
      "[32,    30] loss: 0.003\n",
      "[33,     5] loss: 0.003\n",
      "[33,    10] loss: 0.003\n",
      "[33,    15] loss: 0.003\n",
      "[33,    20] loss: 0.003\n",
      "[33,    25] loss: 0.003\n",
      "[33,    30] loss: 0.003\n",
      "[34,     5] loss: 0.003\n",
      "[34,    10] loss: 0.003\n",
      "[34,    15] loss: 0.003\n",
      "[34,    20] loss: 0.003\n",
      "[34,    25] loss: 0.003\n",
      "[34,    30] loss: 0.003\n",
      "[35,     5] loss: 0.003\n",
      "[35,    10] loss: 0.003\n",
      "[35,    15] loss: 0.003\n",
      "[35,    20] loss: 0.003\n",
      "[35,    25] loss: 0.003\n",
      "[35,    30] loss: 0.003\n",
      "[36,     5] loss: 0.003\n",
      "[36,    10] loss: 0.003\n",
      "[36,    15] loss: 0.003\n",
      "[36,    20] loss: 0.003\n",
      "[36,    25] loss: 0.003\n",
      "[36,    30] loss: 0.003\n",
      "[37,     5] loss: 0.003\n",
      "[37,    10] loss: 0.003\n",
      "[37,    15] loss: 0.003\n",
      "[37,    20] loss: 0.003\n",
      "[37,    25] loss: 0.003\n",
      "[37,    30] loss: 0.003\n",
      "[38,     5] loss: 0.003\n",
      "[38,    10] loss: 0.003\n",
      "[38,    15] loss: 0.003\n",
      "[38,    20] loss: 0.003\n",
      "[38,    25] loss: 0.003\n",
      "[38,    30] loss: 0.003\n",
      "[39,     5] loss: 0.003\n",
      "[39,    10] loss: 0.003\n",
      "[39,    15] loss: 0.003\n",
      "[39,    20] loss: 0.003\n",
      "[39,    25] loss: 0.003\n",
      "[39,    30] loss: 0.003\n",
      "[40,     5] loss: 0.003\n",
      "[40,    10] loss: 0.003\n",
      "[40,    15] loss: 0.003\n",
      "[40,    20] loss: 0.003\n",
      "[40,    25] loss: 0.003\n",
      "[40,    30] loss: 0.003\n",
      "[41,     5] loss: 0.003\n",
      "[41,    10] loss: 0.003\n",
      "[41,    15] loss: 0.003\n",
      "[41,    20] loss: 0.003\n",
      "[41,    25] loss: 0.003\n",
      "[41,    30] loss: 0.003\n",
      "[42,     5] loss: 0.003\n",
      "[42,    10] loss: 0.003\n",
      "[42,    15] loss: 0.003\n",
      "[42,    20] loss: 0.003\n",
      "[42,    25] loss: 0.003\n",
      "[42,    30] loss: 0.003\n",
      "[43,     5] loss: 0.003\n",
      "[43,    10] loss: 0.003\n",
      "[43,    15] loss: 0.003\n",
      "[43,    20] loss: 0.003\n",
      "[43,    25] loss: 0.003\n",
      "[43,    30] loss: 0.003\n",
      "[44,     5] loss: 0.003\n",
      "[44,    10] loss: 0.003\n",
      "[44,    15] loss: 0.003\n",
      "[44,    20] loss: 0.003\n",
      "[44,    25] loss: 0.003\n",
      "[44,    30] loss: 0.003\n",
      "[45,     5] loss: 0.003\n",
      "[45,    10] loss: 0.003\n",
      "[45,    15] loss: 0.003\n",
      "[45,    20] loss: 0.003\n",
      "[45,    25] loss: 0.003\n",
      "[45,    30] loss: 0.003\n",
      "[46,     5] loss: 0.003\n",
      "[46,    10] loss: 0.003\n",
      "[46,    15] loss: 0.003\n",
      "[46,    20] loss: 0.003\n",
      "[46,    25] loss: 0.003\n",
      "[46,    30] loss: 0.003\n",
      "[47,     5] loss: 0.003\n",
      "[47,    10] loss: 0.003\n",
      "[47,    15] loss: 0.003\n",
      "[47,    20] loss: 0.003\n",
      "[47,    25] loss: 0.003\n",
      "[47,    30] loss: 0.003\n",
      "[48,     5] loss: 0.003\n",
      "[48,    10] loss: 0.003\n",
      "[48,    15] loss: 0.003\n",
      "[48,    20] loss: 0.003\n",
      "[48,    25] loss: 0.003\n",
      "[48,    30] loss: 0.003\n",
      "[49,     5] loss: 0.003\n",
      "[49,    10] loss: 0.003\n",
      "[49,    15] loss: 0.003\n",
      "[49,    20] loss: 0.003\n",
      "[49,    25] loss: 0.003\n",
      "[49,    30] loss: 0.003\n",
      "[50,     5] loss: 0.003\n",
      "[50,    10] loss: 0.003\n",
      "[50,    15] loss: 0.003\n",
      "[50,    20] loss: 0.003\n",
      "[50,    25] loss: 0.003\n",
      "[50,    30] loss: 0.003\n",
      "Finished Training\n"
     ]
    }
   ],
   "source": [
    "for epoch in range(50):  # loop over the dataset multiple times\n",
    "\n",
    "    running_loss = 0.0\n",
    "    for i, data in enumerate(trainloader, 0):\n",
    "        # get the inputs; data is a list of [inputs, labels]\n",
    "        inputs = data[0]\n",
    "        labels = data[1]\n",
    "\n",
    "        # zero the parameter gradients\n",
    "        optimizer.zero_grad()\n",
    "\n",
    "        # forward + backward + optimize\n",
    "        outputs = cnn(inputs)\n",
    "        loss = criterion(outputs, labels)\n",
    "        loss.backward()\n",
    "        optimizer.step()\n",
    "\n",
    "        # print statistics\n",
    "        running_loss += loss.item()\n",
    "        if i % 5 == 4:    # print every 2000 mini-batches\n",
    "            print(f'[{epoch + 1}, {i + 1:5d}] loss: {running_loss / 2000:.3f}')\n",
    "            running_loss = 0.0\n",
    "\n",
    "print('Finished Training')"
   ]
  },
  {
   "cell_type": "code",
   "execution_count": 13,
   "id": "91abee22",
   "metadata": {},
   "outputs": [],
   "source": [
    "torch.save(cnn.state_dict(), \"cnn_1.pth\")"
   ]
  },
  {
   "cell_type": "markdown",
   "id": "ec2dc47d",
   "metadata": {},
   "source": [
    "## Test model"
   ]
  },
  {
   "cell_type": "code",
   "execution_count": 21,
   "id": "82f828e3",
   "metadata": {},
   "outputs": [
    {
     "data": {
      "text/plain": [
       "<All keys matched successfully>"
      ]
     },
     "execution_count": 21,
     "metadata": {},
     "output_type": "execute_result"
    }
   ],
   "source": [
    "cnn = CNN()\n",
    "cnn.load_state_dict(torch.load(\"cnn_1.pth\"))"
   ]
  },
  {
   "cell_type": "code",
   "execution_count": 24,
   "id": "ca0e65b2",
   "metadata": {},
   "outputs": [],
   "source": [
    "test_images = torch.Tensor(testset)"
   ]
  },
  {
   "cell_type": "code",
   "execution_count": 25,
   "id": "eb84b218",
   "metadata": {},
   "outputs": [],
   "source": [
    "outputs = cnn(test_images)\n",
    "_, predicted = torch.max(outputs, 1)"
   ]
  },
  {
   "cell_type": "code",
   "execution_count": 27,
   "id": "46cea5b4",
   "metadata": {},
   "outputs": [
    {
     "data": {
      "text/plain": [
       "131"
      ]
     },
     "execution_count": 27,
     "metadata": {},
     "output_type": "execute_result"
    }
   ],
   "source": [
    "len(predicted)"
   ]
  },
  {
   "cell_type": "code",
   "execution_count": 29,
   "id": "c259d619",
   "metadata": {},
   "outputs": [],
   "source": [
    "write_results(predicted,\"results_2\")"
   ]
  }
 ],
 "metadata": {
  "kernelspec": {
   "display_name": "Python 3 (ipykernel)",
   "language": "python",
   "name": "python3"
  },
  "language_info": {
   "codemirror_mode": {
    "name": "ipython",
    "version": 3
   },
   "file_extension": ".py",
   "mimetype": "text/x-python",
   "name": "python",
   "nbconvert_exporter": "python",
   "pygments_lexer": "ipython3",
   "version": "3.8.8"
  }
 },
 "nbformat": 4,
 "nbformat_minor": 5
}
